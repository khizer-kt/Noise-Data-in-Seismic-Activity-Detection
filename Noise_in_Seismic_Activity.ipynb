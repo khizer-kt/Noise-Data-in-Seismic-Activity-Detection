{
  "cells": [
    {
      "cell_type": "code",
      "source": [
        "import numpy as np\n",
        "import pandas as pd\n",
        "from sklearn.preprocessing import StandardScaler\n",
        "from sklearn.model_selection import train_test_split\n",
        "from tensorflow.keras.models import Sequential\n",
        "from tensorflow.keras.layers import LSTM, Dense\n",
        "from tensorflow.keras.optimizers import Adam\n",
        "from tensorflow.keras.utils import to_categorical"
      ],
      "metadata": {
        "id": "VIDgkUSGrD8P"
      },
      "execution_count": 16,
      "outputs": []
    },
    {
      "cell_type": "code",
      "source": [
        "df = pd.read_csv(\"/content/Dataset_timeseries.csv\")\n",
        "data = df[['Time (s)', 'SOPAS', 'Number']]\n",
        "\n",
        "# Standardize the features\n",
        "scaler = StandardScaler()\n",
        "data[['Time (s)', 'SOPAS']] = scaler.fit_transform(data[['Time (s)', 'SOPAS']])"
      ],
      "metadata": {
        "id": "fG68jRwEraUr"
      },
      "execution_count": 17,
      "outputs": []
    },
    {
      "cell_type": "code",
      "source": [
        "def create_sequences(data, seq_length):\n",
        "    X = []\n",
        "    y = []\n",
        "    for i in range(len(data) - seq_length):\n",
        "        X.append(data.iloc[i:i+seq_length, :-1].values)  # Exclude the target column\n",
        "        y.append(data.iloc[i+seq_length, -1])  # Target is the 'Number' column\n",
        "    return np.array(X), np.array(y)\n",
        "\n",
        "# Set sequence length\n",
        "SEQ_LENGTH = 5\n",
        "\n",
        "# Create sequences\n",
        "X, y = create_sequences(data, SEQ_LENGTH)"
      ],
      "metadata": {
        "id": "-3f3TUY8rgv7"
      },
      "execution_count": 18,
      "outputs": []
    },
    {
      "cell_type": "code",
      "source": [
        "# Split the data into training and testing sets\n",
        "X_train, X_test, y_train, y_test = train_test_split(X, y, test_size=0.2, random_state=42)\n",
        "\n",
        "# One-hot encode the labels\n",
        "y_train = to_categorical(y_train, num_classes=4)\n",
        "y_test = to_categorical(y_test, num_classes=4)"
      ],
      "metadata": {
        "id": "omrL1OnUsE9n"
      },
      "execution_count": 19,
      "outputs": []
    },
    {
      "cell_type": "code",
      "source": [
        "# Build the LSTM model\n",
        "model = Sequential()\n",
        "model.add(LSTM(100, return_sequences=True, input_shape=(SEQ_LENGTH, 2)))\n",
        "model.add(LSTM(50))\n",
        "model.add(Dense(4, activation='softmax'))\n",
        "\n",
        "# Compile the model\n",
        "model.compile(optimizer=Adam(learning_rate=0.001), loss='categorical_crossentropy', metrics=['accuracy'])\n",
        "model.summary()"
      ],
      "metadata": {
        "colab": {
          "base_uri": "https://localhost:8080/"
        },
        "id": "-YtCz4JjsKcc",
        "outputId": "92673a24-1017-4ce3-9cff-96e8ef3b620b"
      },
      "execution_count": 22,
      "outputs": [
        {
          "output_type": "stream",
          "name": "stdout",
          "text": [
            "Model: \"sequential_4\"\n",
            "_________________________________________________________________\n",
            " Layer (type)                Output Shape              Param #   \n",
            "=================================================================\n",
            " lstm_8 (LSTM)               (None, 5, 100)            41200     \n",
            "                                                                 \n",
            " lstm_9 (LSTM)               (None, 50)                30200     \n",
            "                                                                 \n",
            " dense_4 (Dense)             (None, 4)                 204       \n",
            "                                                                 \n",
            "=================================================================\n",
            "Total params: 71604 (279.70 KB)\n",
            "Trainable params: 71604 (279.70 KB)\n",
            "Non-trainable params: 0 (0.00 Byte)\n",
            "_________________________________________________________________\n"
          ]
        }
      ]
    },
    {
      "cell_type": "code",
      "source": [
        "history = model.fit(X_train, y_train, epochs=10, batch_size=32, validation_data=(X_test, y_test))"
      ],
      "metadata": {
        "colab": {
          "base_uri": "https://localhost:8080/"
        },
        "id": "mJN5CCoUsN_1",
        "outputId": "cd189c34-f604-4c36-af18-5d1e6f54a891"
      },
      "execution_count": 23,
      "outputs": [
        {
          "output_type": "stream",
          "name": "stdout",
          "text": [
            "Epoch 1/10\n",
            "5117/5117 [==============================] - 33s 6ms/step - loss: 0.5457 - accuracy: 0.7610 - val_loss: 0.4985 - val_accuracy: 0.7739\n",
            "Epoch 2/10\n",
            "5117/5117 [==============================] - 35s 7ms/step - loss: 0.4890 - accuracy: 0.7776 - val_loss: 0.4801 - val_accuracy: 0.7779\n",
            "Epoch 3/10\n",
            "5117/5117 [==============================] - 33s 7ms/step - loss: 0.4758 - accuracy: 0.7817 - val_loss: 0.4661 - val_accuracy: 0.7820\n",
            "Epoch 4/10\n",
            "5117/5117 [==============================] - 35s 7ms/step - loss: 0.4679 - accuracy: 0.7834 - val_loss: 0.4627 - val_accuracy: 0.7826\n",
            "Epoch 5/10\n",
            "5117/5117 [==============================] - 32s 6ms/step - loss: 0.4611 - accuracy: 0.7865 - val_loss: 0.4880 - val_accuracy: 0.7803\n",
            "Epoch 6/10\n",
            "5117/5117 [==============================] - 31s 6ms/step - loss: 0.4571 - accuracy: 0.7870 - val_loss: 0.4571 - val_accuracy: 0.7851\n",
            "Epoch 7/10\n",
            "5117/5117 [==============================] - 33s 6ms/step - loss: 0.4519 - accuracy: 0.7885 - val_loss: 0.4556 - val_accuracy: 0.7829\n",
            "Epoch 8/10\n",
            "5117/5117 [==============================] - 32s 6ms/step - loss: 0.4489 - accuracy: 0.7899 - val_loss: 0.4455 - val_accuracy: 0.7890\n",
            "Epoch 9/10\n",
            "5117/5117 [==============================] - 34s 7ms/step - loss: 0.4450 - accuracy: 0.7909 - val_loss: 0.4541 - val_accuracy: 0.7816\n",
            "Epoch 10/10\n",
            "5117/5117 [==============================] - 33s 6ms/step - loss: 0.4420 - accuracy: 0.7917 - val_loss: 0.4446 - val_accuracy: 0.7859\n"
          ]
        }
      ]
    },
    {
      "cell_type": "code",
      "source": [
        "loss, accuracy = model.evaluate(X_test, y_test)\n",
        "print(f'Test Loss: {loss:.4f}')\n",
        "print(f'Test Accuracy: {accuracy:.4f}')"
      ],
      "metadata": {
        "colab": {
          "base_uri": "https://localhost:8080/"
        },
        "id": "Al4JBs2HsP6w",
        "outputId": "20e633c2-1a5e-46cc-f78d-71034621a7f8"
      },
      "execution_count": 24,
      "outputs": [
        {
          "output_type": "stream",
          "name": "stdout",
          "text": [
            "1280/1280 [==============================] - 5s 4ms/step - loss: 0.4446 - accuracy: 0.7859\n",
            "Test Loss: 0.4446\n",
            "Test Accuracy: 0.7859\n"
          ]
        }
      ]
    },
    {
      "cell_type": "markdown",
      "source": [
        "## NOISE ADDITION PROCESS\n",
        "- Add noise at once to all features\n",
        "- Add noise to just one feature\n",
        "- Test Resilience of different features to noise\n",
        "- See how different models are resilient to noise addition"
      ],
      "metadata": {
        "id": "-gbqyoh_vbfQ"
      }
    },
    {
      "cell_type": "code",
      "source": [
        "def add_noise(data, noise_level=0.01): # GAUSSIAN NOISE FUNCTION\n",
        "    noise = np.random.normal(loc=0, scale=noise_level, size=data.shape)\n",
        "    return data + noise\n",
        "\n",
        "# data_noisy = add_noise(data[['Time (s)', 'SOPAS']].values, noise_level=0.01)\n",
        "# data[['Time (s)', 'SOPAS']] = data_noisy\n"
      ],
      "metadata": {
        "id": "r3-YeUH2vdEO"
      },
      "execution_count": 25,
      "outputs": []
    },
    {
      "cell_type": "code",
      "source": [
        "# Both featues have noise\n",
        "data1 = df[['Time (s)', 'SOPAS', 'Number']]\n",
        "data_noisy1 = add_noise(data1[['Time (s)', 'SOPAS']].values, noise_level=0.01)\n",
        "data1[['Time (s)', 'SOPAS']] = data_noisy1\n",
        "\n",
        "scaler = StandardScaler()\n",
        "data1[['Time (s)', 'SOPAS']] = scaler.fit_transform(data1[['Time (s)', 'SOPAS']])\n",
        "\n",
        "def create_sequences(data1, seq_length):\n",
        "    X = []\n",
        "    y = []\n",
        "    for i in range(len(data1) - seq_length):\n",
        "        X.append(data1.iloc[i:i+seq_length, :-1].values)  # Exclude the target column\n",
        "        y.append(data1.iloc[i+seq_length, -1])  # Target is the 'Number' column\n",
        "    return np.array(X), np.array(y)\n",
        "\n",
        "# Set sequence length\n",
        "SEQ_LENGTH = 5\n",
        "\n",
        "# Create sequences\n",
        "X, y = create_sequences(data1, SEQ_LENGTH)\n",
        "# Split the data into training and testing sets\n",
        "X_train, X_test, y_train, y_test = train_test_split(X, y, test_size=0.2, random_state=42)\n",
        "\n",
        "# One-hot encode the labels\n",
        "y_train = to_categorical(y_train, num_classes=4)\n",
        "y_test = to_categorical(y_test, num_classes=4)\n",
        "# Build the LSTM model\n",
        "model = Sequential()\n",
        "model.add(LSTM(100, return_sequences=True, input_shape=(SEQ_LENGTH, 2)))\n",
        "model.add(LSTM(50))\n",
        "model.add(Dense(4, activation='softmax'))\n",
        "\n",
        "# Compile the model\n",
        "model.compile(optimizer=Adam(learning_rate=0.001), loss='categorical_crossentropy', metrics=['accuracy'])\n",
        "model.summary()\n",
        "print(\"BOTH FEATURES HAVE NOISE\")\n",
        "history = model.fit(X_train, y_train, epochs=10, batch_size=32, validation_data=(X_test, y_test))\n",
        "loss, accuracy = model.evaluate(X_test, y_test)\n",
        "print(f'Test Loss: {loss:.4f}')\n",
        "print(f'Test Accuracy: {accuracy:.4f}')"
      ],
      "metadata": {
        "colab": {
          "base_uri": "https://localhost:8080/"
        },
        "id": "8tI5rP6EwufQ",
        "outputId": "e97c234d-77e8-45bd-9b3e-d0a1d8dcc97f"
      },
      "execution_count": 26,
      "outputs": [
        {
          "output_type": "stream",
          "name": "stdout",
          "text": [
            "Model: \"sequential_5\"\n",
            "_________________________________________________________________\n",
            " Layer (type)                Output Shape              Param #   \n",
            "=================================================================\n",
            " lstm_10 (LSTM)              (None, 5, 100)            41200     \n",
            "                                                                 \n",
            " lstm_11 (LSTM)              (None, 50)                30200     \n",
            "                                                                 \n",
            " dense_5 (Dense)             (None, 4)                 204       \n",
            "                                                                 \n",
            "=================================================================\n",
            "Total params: 71604 (279.70 KB)\n",
            "Trainable params: 71604 (279.70 KB)\n",
            "Non-trainable params: 0 (0.00 Byte)\n",
            "_________________________________________________________________\n",
            "BOTH FEATURES HAVE NOISE\n",
            "Epoch 1/10\n",
            "5117/5117 [==============================] - 39s 7ms/step - loss: 0.5444 - accuracy: 0.7623 - val_loss: 0.5036 - val_accuracy: 0.7775\n",
            "Epoch 2/10\n",
            "5117/5117 [==============================] - 32s 6ms/step - loss: 0.4870 - accuracy: 0.7788 - val_loss: 0.4844 - val_accuracy: 0.7776\n",
            "Epoch 3/10\n",
            "5117/5117 [==============================] - 30s 6ms/step - loss: 0.4758 - accuracy: 0.7825 - val_loss: 0.4776 - val_accuracy: 0.7808\n",
            "Epoch 4/10\n",
            "5117/5117 [==============================] - 34s 7ms/step - loss: 0.4674 - accuracy: 0.7846 - val_loss: 0.4665 - val_accuracy: 0.7818\n",
            "Epoch 5/10\n",
            "5117/5117 [==============================] - 33s 7ms/step - loss: 0.4613 - accuracy: 0.7864 - val_loss: 0.4666 - val_accuracy: 0.7797\n",
            "Epoch 6/10\n",
            "5117/5117 [==============================] - 33s 6ms/step - loss: 0.4565 - accuracy: 0.7875 - val_loss: 0.4630 - val_accuracy: 0.7835\n",
            "Epoch 7/10\n",
            "5117/5117 [==============================] - 33s 6ms/step - loss: 0.4530 - accuracy: 0.7895 - val_loss: 0.4527 - val_accuracy: 0.7862\n",
            "Epoch 8/10\n",
            "5117/5117 [==============================] - 32s 6ms/step - loss: 0.4483 - accuracy: 0.7900 - val_loss: 0.4479 - val_accuracy: 0.7876\n",
            "Epoch 9/10\n",
            "5117/5117 [==============================] - 31s 6ms/step - loss: 0.4450 - accuracy: 0.7914 - val_loss: 0.4642 - val_accuracy: 0.7832\n",
            "Epoch 10/10\n",
            "5117/5117 [==============================] - 32s 6ms/step - loss: 0.4427 - accuracy: 0.7922 - val_loss: 0.4447 - val_accuracy: 0.7902\n",
            "1280/1280 [==============================] - 5s 4ms/step - loss: 0.4447 - accuracy: 0.7902\n",
            "Test Loss: 0.4447\n",
            "Test Accuracy: 0.7902\n"
          ]
        }
      ]
    },
    {
      "cell_type": "code",
      "source": [
        "# Time column has noise\n",
        "data2 = df[['Time (s)', 'SOPAS', 'Number']]\n",
        "data_noisy2 = add_noise(data2[['Time (s)']].values, noise_level=0.01)\n",
        "data2[['Time (s)']] = data_noisy2\n",
        "\n",
        "scaler = StandardScaler()\n",
        "data2[['Time (s)', 'SOPAS']] = scaler.fit_transform(data2[['Time (s)', 'SOPAS']])\n",
        "\n",
        "def create_sequences(data2, seq_length):\n",
        "    X = []\n",
        "    y = []\n",
        "    for i in range(len(data2) - seq_length):\n",
        "        X.append(data2.iloc[i:i+seq_length, :-1].values)  # Exclude the target column\n",
        "        y.append(data2.iloc[i+seq_length, -1])  # Target is the 'Number' column\n",
        "    return np.array(X), np.array(y)\n",
        "\n",
        "# Set sequence length\n",
        "SEQ_LENGTH = 5\n",
        "\n",
        "# Create sequences\n",
        "X, y = create_sequences(data2, SEQ_LENGTH)\n",
        "# Split the data into training and testing sets\n",
        "X_train, X_test, y_train, y_test = train_test_split(X, y, test_size=0.2, random_state=42)\n",
        "\n",
        "# One-hot encode the labels\n",
        "y_train = to_categorical(y_train, num_classes=4)\n",
        "y_test = to_categorical(y_test, num_classes=4)\n",
        "# Build the LSTM model\n",
        "model = Sequential()\n",
        "model.add(LSTM(100, return_sequences=True, input_shape=(SEQ_LENGTH, 2)))\n",
        "model.add(LSTM(50))\n",
        "model.add(Dense(4, activation='softmax'))\n",
        "\n",
        "# Compile the model\n",
        "model.compile(optimizer=Adam(learning_rate=0.001), loss='categorical_crossentropy', metrics=['accuracy'])\n",
        "model.summary()\n",
        "print(\"TIME HAS NOISE\")\n",
        "history = model.fit(X_train, y_train, epochs=10, batch_size=32, validation_data=(X_test, y_test))\n",
        "loss, accuracy = model.evaluate(X_test, y_test)\n",
        "print(f'Test Loss: {loss:.4f}')\n",
        "print(f'Test Accuracy: {accuracy:.4f}')"
      ],
      "metadata": {
        "colab": {
          "base_uri": "https://localhost:8080/"
        },
        "id": "r-Uje5BkxGOq",
        "outputId": "c96d91e8-984a-4e37-f03d-15e0d2137fd1"
      },
      "execution_count": 27,
      "outputs": [
        {
          "output_type": "stream",
          "name": "stdout",
          "text": [
            "Model: \"sequential_6\"\n",
            "_________________________________________________________________\n",
            " Layer (type)                Output Shape              Param #   \n",
            "=================================================================\n",
            " lstm_12 (LSTM)              (None, 5, 100)            41200     \n",
            "                                                                 \n",
            " lstm_13 (LSTM)              (None, 50)                30200     \n",
            "                                                                 \n",
            " dense_6 (Dense)             (None, 4)                 204       \n",
            "                                                                 \n",
            "=================================================================\n",
            "Total params: 71604 (279.70 KB)\n",
            "Trainable params: 71604 (279.70 KB)\n",
            "Non-trainable params: 0 (0.00 Byte)\n",
            "_________________________________________________________________\n",
            "TIME HAS NOISE\n",
            "Epoch 1/10\n",
            "5117/5117 [==============================] - 35s 6ms/step - loss: 0.5511 - accuracy: 0.7596 - val_loss: 0.4967 - val_accuracy: 0.7787\n",
            "Epoch 2/10\n",
            "5117/5117 [==============================] - 30s 6ms/step - loss: 0.4902 - accuracy: 0.7784 - val_loss: 0.4890 - val_accuracy: 0.7723\n",
            "Epoch 3/10\n",
            "5117/5117 [==============================] - 32s 6ms/step - loss: 0.4761 - accuracy: 0.7822 - val_loss: 0.4747 - val_accuracy: 0.7788\n",
            "Epoch 4/10\n",
            "5117/5117 [==============================] - 30s 6ms/step - loss: 0.4691 - accuracy: 0.7842 - val_loss: 0.4624 - val_accuracy: 0.7826\n",
            "Epoch 5/10\n",
            "5117/5117 [==============================] - 32s 6ms/step - loss: 0.4615 - accuracy: 0.7864 - val_loss: 0.4571 - val_accuracy: 0.7833\n",
            "Epoch 6/10\n",
            "5117/5117 [==============================] - 32s 6ms/step - loss: 0.4561 - accuracy: 0.7875 - val_loss: 0.4692 - val_accuracy: 0.7794\n",
            "Epoch 7/10\n",
            "5117/5117 [==============================] - 30s 6ms/step - loss: 0.4512 - accuracy: 0.7897 - val_loss: 0.4604 - val_accuracy: 0.7790\n",
            "Epoch 8/10\n",
            "5117/5117 [==============================] - 32s 6ms/step - loss: 0.4475 - accuracy: 0.7906 - val_loss: 0.4516 - val_accuracy: 0.7869\n",
            "Epoch 9/10\n",
            "5117/5117 [==============================] - 33s 6ms/step - loss: 0.4443 - accuracy: 0.7921 - val_loss: 0.4534 - val_accuracy: 0.7855\n",
            "Epoch 10/10\n",
            "5117/5117 [==============================] - 33s 6ms/step - loss: 0.4416 - accuracy: 0.7927 - val_loss: 0.4482 - val_accuracy: 0.7888\n",
            "1280/1280 [==============================] - 4s 3ms/step - loss: 0.4482 - accuracy: 0.7888\n",
            "Test Loss: 0.4482\n",
            "Test Accuracy: 0.7888\n"
          ]
        }
      ]
    },
    {
      "cell_type": "code",
      "source": [
        "# SOPAS column has noise\n",
        "data3 = df[['Time (s)', 'SOPAS', 'Number']]\n",
        "data_noisy3 = add_noise(data3[['Time (s)']].values, noise_level=0.01)\n",
        "data3[['Time (s)']] = data_noisy3\n",
        "\n",
        "scaler = StandardScaler()\n",
        "data3[['Time (s)', 'SOPAS']] = scaler.fit_transform(data3[['Time (s)', 'SOPAS']])\n",
        "\n",
        "def create_sequences(data3, seq_length):\n",
        "    X = []\n",
        "    y = []\n",
        "    for i in range(len(data3) - seq_length):\n",
        "        X.append(data3.iloc[i:i+seq_length, :-1].values)  # Exclude the target column\n",
        "        y.append(data3.iloc[i+seq_length, -1])  # Target is the 'Number' column\n",
        "    return np.array(X), np.array(y)\n",
        "\n",
        "# Set sequence length\n",
        "SEQ_LENGTH = 5\n",
        "\n",
        "# Create sequences\n",
        "X, y = create_sequences(data3, SEQ_LENGTH)\n",
        "# Split the data into training and testing sets\n",
        "X_train, X_test, y_train, y_test = train_test_split(X, y, test_size=0.2, random_state=42)\n",
        "\n",
        "# One-hot encode the labels\n",
        "y_train = to_categorical(y_train, num_classes=4)\n",
        "y_test = to_categorical(y_test, num_classes=4)\n",
        "# Build the LSTM model\n",
        "model = Sequential()\n",
        "model.add(LSTM(100, return_sequences=True, input_shape=(SEQ_LENGTH, 2)))\n",
        "model.add(LSTM(50))\n",
        "model.add(Dense(4, activation='softmax'))\n",
        "\n",
        "# Compile the model\n",
        "model.compile(optimizer=Adam(learning_rate=0.001), loss='categorical_crossentropy', metrics=['accuracy'])\n",
        "model.summary()\n",
        "print(\"SOPAS HAS NOISE\")\n",
        "history = model.fit(X_train, y_train, epochs=10, batch_size=32, validation_data=(X_test, y_test))\n",
        "loss, accuracy = model.evaluate(X_test, y_test)\n",
        "print(f'Test Loss: {loss:.4f}')\n",
        "print(f'Test Accuracy: {accuracy:.4f}')"
      ],
      "metadata": {
        "colab": {
          "base_uri": "https://localhost:8080/"
        },
        "id": "w1ASP0ozxRwV",
        "outputId": "13f916b9-7760-4ff3-b4ea-9407de3ab3f8"
      },
      "execution_count": 28,
      "outputs": [
        {
          "output_type": "stream",
          "name": "stdout",
          "text": [
            "Model: \"sequential_7\"\n",
            "_________________________________________________________________\n",
            " Layer (type)                Output Shape              Param #   \n",
            "=================================================================\n",
            " lstm_14 (LSTM)              (None, 5, 100)            41200     \n",
            "                                                                 \n",
            " lstm_15 (LSTM)              (None, 50)                30200     \n",
            "                                                                 \n",
            " dense_7 (Dense)             (None, 4)                 204       \n",
            "                                                                 \n",
            "=================================================================\n",
            "Total params: 71604 (279.70 KB)\n",
            "Trainable params: 71604 (279.70 KB)\n",
            "Non-trainable params: 0 (0.00 Byte)\n",
            "_________________________________________________________________\n",
            "SOPAS HAS NOISE\n",
            "Epoch 1/10\n",
            "5117/5117 [==============================] - 38s 7ms/step - loss: 0.5481 - accuracy: 0.7615 - val_loss: 0.5113 - val_accuracy: 0.7696\n",
            "Epoch 2/10\n",
            "5117/5117 [==============================] - 34s 7ms/step - loss: 0.4884 - accuracy: 0.7789 - val_loss: 0.4854 - val_accuracy: 0.7766\n",
            "Epoch 3/10\n",
            "5117/5117 [==============================] - 33s 6ms/step - loss: 0.4760 - accuracy: 0.7819 - val_loss: 0.4812 - val_accuracy: 0.7760\n",
            "Epoch 4/10\n",
            "5117/5117 [==============================] - 34s 7ms/step - loss: 0.4679 - accuracy: 0.7835 - val_loss: 0.4712 - val_accuracy: 0.7781\n",
            "Epoch 5/10\n",
            "5117/5117 [==============================] - 31s 6ms/step - loss: 0.4609 - accuracy: 0.7859 - val_loss: 0.4670 - val_accuracy: 0.7780\n",
            "Epoch 6/10\n",
            "5117/5117 [==============================] - 31s 6ms/step - loss: 0.4555 - accuracy: 0.7878 - val_loss: 0.4550 - val_accuracy: 0.7861\n",
            "Epoch 7/10\n",
            "5117/5117 [==============================] - 32s 6ms/step - loss: 0.4514 - accuracy: 0.7882 - val_loss: 0.4493 - val_accuracy: 0.7896\n",
            "Epoch 8/10\n",
            "5117/5117 [==============================] - 30s 6ms/step - loss: 0.4472 - accuracy: 0.7900 - val_loss: 0.4461 - val_accuracy: 0.7898\n",
            "Epoch 9/10\n",
            "5117/5117 [==============================] - 31s 6ms/step - loss: 0.4445 - accuracy: 0.7914 - val_loss: 0.4450 - val_accuracy: 0.7882\n",
            "Epoch 10/10\n",
            "5117/5117 [==============================] - 31s 6ms/step - loss: 0.4409 - accuracy: 0.7930 - val_loss: 0.4407 - val_accuracy: 0.7927\n",
            "1280/1280 [==============================] - 5s 4ms/step - loss: 0.4407 - accuracy: 0.7927\n",
            "Test Loss: 0.4407\n",
            "Test Accuracy: 0.7927\n"
          ]
        }
      ]
    }
  ],
  "metadata": {
    "accelerator": "GPU",
    "colab": {
      "gpuType": "T4",
      "provenance": []
    },
    "kernelspec": {
      "display_name": "Python 3",
      "name": "python3"
    },
    "language_info": {
      "name": "python"
    }
  },
  "nbformat": 4,
  "nbformat_minor": 0
}